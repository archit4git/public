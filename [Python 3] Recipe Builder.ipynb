{
 "cells": [
  {
   "cell_type": "markdown",
   "metadata": {},
   "source": [
    "## Recipe Builder Actions Overview\n",
    "\n",
    "### Saving a File Cell\n",
    "If you wish to save the contents of a cell, simply run it.  The `%%writefile` command at the top of the cell will write the contents of the cell to the file named at the top of the cell. You should run the cells manually when applicable. However, **pressing any of the actions at the top will automatically run all file cells relevant to the action**.\n",
    "\n",
    "### Training and Scoring\n",
    "Press the associated buttons at the top in order to run training or scoring. The training output will be shown below the `evaluator.py` cell and scoring output will be shown below the `datasaver.py` cell. You must run training at least once before you can run scoring. You may delete the output cell(s). Running training the first time or after changing `requirements.txt` will be slower since the dependencies for the recipe need to be installed, but subsequent runs will be significantly faster. If you wish to see the hidden output add `debug` to the end of the output cell and re-run it.\n",
    "\n",
    "### Creating the Recipe\n",
    "When you are done editing the recipe and satisfied with the training/scoring output, you can create a recipe from the notebook by pressing `Create Recipe`. You must run scoring at least once before you can create the recipe. After pressing it, you will see a progress bar showing how much time is left for the build to finish. If the recipe creation is successful the progress bar will be replaced by an external link that you can click to navigate to the created recipe.\n",
    "\n",
    "\n",
    "## Caution!\n",
    "* **Do not delete any of the file cells**\n",
    "* **Do not edit the `%%writefile` line at the top of the file cells**\n",
    "\n",
    "---"
   ]
  },
  {
   "cell_type": "markdown",
   "metadata": {},
   "source": [
    "#### **Requirements File** (Optional)\n",
    "Add additional libraries you wish to use in the recipe to the cell below. You can specify the version number if necessary. The file cell below is a **commented out example**.  The file structure is yaml. It adheres to the specification outlined in the [Conda Documentation](https://docs.conda.io/projects/conda/en/latest/user-guide/tasks/manage-environments.html#creating-an-environment-file-manually). **NOTE:** The name field is not allowed to be overridden in the file."
   ]
  },
  {
   "cell_type": "code",
   "execution_count": null,
   "metadata": {
    "id": "requirements.txt",
    "tags": [
     "requirements.txt"
    ]
   },
   "outputs": [],
   "source": [
    "%%writefile ~/my-workspace/.recipes/recipe-cyiuzaLij/requirements.txt\n",
    "\n",
    "#dependencies:\n",
    "## Conda dependencies should be attempted first\n",
    "#- statsmodels=0.10.2\n",
    "#- pip\n",
    "#- pip:\n",
    "## Pip installs can be listed next but should only be used when Conda is unavailable\n",
    "#   - pmdarima==1.5.3\n"
   ]
  },
  {
   "cell_type": "markdown",
   "metadata": {},
   "source": [
    "Search here for additional libraries https://anaconda.org/. This is the list of main **libraries already in use**:\n",
    "`python=3.6.7` `scikit-learn` `pandas` `numpy` `data_access_sdk_python`\n",
    "**Warning: libraries or specific versions you add may be incompatible with the above libraries**."
   ]
  },
  {
   "cell_type": "markdown",
   "metadata": {},
   "source": [
    "---"
   ]
  },
  {
   "cell_type": "markdown",
   "metadata": {},
   "source": [
    "#### **Configuration Files**\n",
    "List any hyperparameters you wish to use. Specify the dataset(s) and schema(s) that are needed for training/scoring. To find the dataset ids go to the **Data tab** in Adobe Experience Platform or view the **Datasets** folder in the **Notebooks Data tab** on the left. You can also find schema id in the **Notebooks Data tab** under the **Schemas** folder. Each configuration will only be used for its corresponding action. `ACP_DSW_TRAINING_XDM_SCHEMA` and `ACP_DSW_SCORING_RESULTS_XDM_SCHEMA` will only be used after the recipe has been created."
   ]
  },
  {
   "cell_type": "markdown",
   "metadata": {},
   "source": [
    "##### Training Configuration"
   ]
  },
  {
   "cell_type": "code",
   "execution_count": null,
   "metadata": {
    "id": "training.conf",
    "tags": [
     "training.conf"
    ]
   },
   "outputs": [],
   "source": [
    "%%writefile ~/my-workspace/.recipes/recipe-cyiuzaLij/training.conf\n",
    "\n",
    "{\n",
    "   \"trainingDataSetId\": \"605aa0b37d909c194873348a\",\n",
    "   \"ACP_DSW_TRAINING_XDM_SCHEMA\": \"https://ns.adobe.com/trowelab/schemas/c9ed4fec408542746fbc0de1e2f1ebd1cc6fbe378985f3b3\",\n",
    "   \"tenantId\": \"_trowelab\", \n",
    "   \"max_iter\": \"50000\"\n",
    "}"
   ]
  },
  {
   "cell_type": "markdown",
   "metadata": {},
   "source": [
    "##### Scoring Configuration"
   ]
  },
  {
   "cell_type": "code",
   "execution_count": null,
   "metadata": {
    "id": "scoring.conf",
    "tags": [
     "scoring.conf"
    ]
   },
   "outputs": [],
   "source": [
    "%%writefile ~/my-workspace/.recipes/recipe-cyiuzaLij/scoring.conf\n",
    "\n",
    "{\n",
    "   \"scoringDataSetId\": \"605aa0eae30ac41949d41637\",\n",
    "   \"scoringResultsDataSetId\": \"605aa30ec251b71948f2dab4\",\n",
    "   \"ACP_DSW_SCORING_RESULTS_XDM_SCHEMA\": \"https://ns.adobe.com/trowelab/schemas/23e6fba6f38b1aea21502439fba5695916c4632e511ecdf4\",\n",
    "   \"tenantId\": \"_trowelab\"\n",
    "}"
   ]
  },
  {
   "cell_type": "markdown",
   "metadata": {},
   "source": [
    "**The following configuration parameters are automatically set for you when you train/score:** \n",
    "`ML_FRAMEWORK_IMS_USER_CLIENT_ID` `ML_FRAMEWORK_IMS_TOKEN` `ML_FRAMEWORK_IMS_ML_TOKEN` `ML_FRAMEWORK_IMS_TENANT_ID`"
   ]
  },
  {
   "cell_type": "markdown",
   "metadata": {},
   "source": [
    "---"
   ]
  },
  {
   "cell_type": "markdown",
   "metadata": {},
   "source": [
    "#### **Training Data Loader File**\n",
    "Implement the `load` function to load and prepare the training data."
   ]
  },
  {
   "cell_type": "code",
   "execution_count": null,
   "metadata": {
    "id": "trainingdataloader.py",
    "tags": [
     "trainingdataloader.py"
    ]
   },
   "outputs": [],
   "source": [
    "%%writefile ~/my-workspace/.recipes/recipe-cyiuzaLij/recipe/trainingdataloader.py\n",
    "\n",
    "import pandas as pd\n",
    "from datetime import datetime, timedelta\n",
    "from platform_sdk.dataset_reader import DatasetReader\n",
    "from .utils import get_client_context\n",
    "\n",
    "def load(config_properties):\n",
    "    print(\"Training Data Load Start\")\n",
    "\n",
    "    #########################################\n",
    "    # Load Data\n",
    "    #########################################    \n",
    "    client_context = get_client_context(config_properties)\n",
    "    \n",
    "    dataset_reader = DatasetReader(client_context, config_properties['trainingDataSetId'])\n",
    "    \n",
    "    tenant_id = config_properties.get(\"tenant_id\")\n",
    "    \n",
    "    dataframe = dataset_reader.read()\n",
    "\n",
    "    #########################################\n",
    "    # Data Preparation/Feature Engineering\n",
    "    #########################################    \n",
    "    dataframe = dataframe.drop(\"UserID\", axis=1)\n",
    "    dataframe = dataframe.astype('int32')\n",
    "    dataframe = pd.concat([dataframe[\"checked_delivery_detail\"], dataframe[\"saw_checkout\"], dataframe[\"sign_in\"], dataframe[\"ordered\"]], axis=1)\n",
    "\n",
    "    print(\"Training Data Load Finish\")\n",
    "    return dataframe"
   ]
  },
  {
   "cell_type": "markdown",
   "metadata": {},
   "source": [
    "---"
   ]
  },
  {
   "cell_type": "markdown",
   "metadata": {},
   "source": [
    "#### **Scoring Data Loader File**\n",
    "Implement the `load` function to load and prepare the scoring data."
   ]
  },
  {
   "cell_type": "code",
   "execution_count": null,
   "metadata": {
    "id": "scoringdataloader.py",
    "tags": [
     "scoringdataloader.py"
    ]
   },
   "outputs": [],
   "source": [
    "%%writefile ~/my-workspace/.recipes/recipe-cyiuzaLij/recipe/scoringdataloader.py\n",
    "\n",
    "import pandas as pd\n",
    "from datetime import datetime, timedelta\n",
    "from .utils import get_client_context\n",
    "from platform_sdk.dataset_reader import DatasetReader\n",
    "\n",
    "def load(config_properties):\n",
    "\n",
    "    print(\"Scoring Data Load Start\")\n",
    "\n",
    "    #########################################\n",
    "    # Load Data\n",
    "    #########################################\n",
    "    client_context = get_client_context(config_properties)\n",
    "\n",
    "    dataset_reader = DatasetReader(client_context, config_properties['scoringDataSetId'])\n",
    "    tenant_id = config_properties.get(\"tenant_id\")\n",
    "\n",
    "    dataframe = dataset_reader.read()\n",
    "\n",
    "    #########################################\n",
    "    # Data Preparation/Feature Engineering\n",
    "    #########################################\n",
    "\n",
    "    dataframe = pd.concat([dataframe[\"UserID\"], dataframe[\"checked_delivery_detail\"].astype('int32'), dataframe[\"saw_checkout\"].astype('int32'), dataframe[\"sign_in\"].astype('int32')], axis=1)\n",
    "    \n",
    "    print(\"Scoring Data Load Finish\")\n",
    "\n",
    "    return dataframe"
   ]
  },
  {
   "cell_type": "markdown",
   "metadata": {},
   "source": [
    "---"
   ]
  },
  {
   "cell_type": "markdown",
   "metadata": {},
   "source": [
    "#### **Pipeline File**\n",
    "Implement the `train` function and return the trained model. Implement the `score` function to return a prediction made on the scoring data."
   ]
  },
  {
   "cell_type": "code",
   "execution_count": null,
   "metadata": {
    "id": "pipeline.py",
    "tags": [
     "pipeline.py"
    ]
   },
   "outputs": [],
   "source": [
    "%%writefile ~/my-workspace/.recipes/recipe-cyiuzaLij/recipe/pipeline.py\n",
    "\n",
    "from sklearn import svm\n",
    "from sklearn.ensemble import GradientBoostingRegressor\n",
    "\n",
    "def train(config_properties, data):\n",
    "\n",
    "    print(\"Train Start\")\n",
    "        \n",
    "    #########################################\n",
    "    # Extract fields from configProperties\n",
    "    #########################################\n",
    "    max_iter = int(config_properties['max_iter'])\n",
    "\n",
    "\n",
    "    #########################################\n",
    "    # Fit model\n",
    "    #########################################\n",
    "    X_train = data.drop('ordered', axis=1).values\n",
    "    y_train = data['ordered']\n",
    "\n",
    "    model = svm.SVC(probability=True, max_iter=max_iter).fit(X_train, y_train)\n",
    "\n",
    "    print(\"Train Complete\")\n",
    "    return model\n",
    "\n",
    "def score(config_properties, data, model):\n",
    "\n",
    "    print(\"Score Start\")\n",
    "\n",
    "    X_test = data.drop('UserID', axis=1).values\n",
    "    y_pred = model.predict(X_test)\n",
    "\n",
    "    data['prediction'] = y_pred\n",
    "    #data = data[['UserID', 'prediction']].reset_index()\n",
    "\n",
    "    print(\"Score Complete\")\n",
    "    return data"
   ]
  },
  {
   "cell_type": "markdown",
   "metadata": {},
   "source": [
    "---"
   ]
  },
  {
   "cell_type": "markdown",
   "metadata": {},
   "source": [
    "#### **Evaluator File**\n",
    "Implement the `split` function to partition the training data and the `evaluate` function to the return the validation metrics you wish to see. Training output will be shown below this file cell."
   ]
  },
  {
   "cell_type": "code",
   "execution_count": null,
   "metadata": {
    "id": "evaluator.py",
    "tags": [
     "evaluator.py"
    ]
   },
   "outputs": [],
   "source": [
    "%%writefile ~/my-workspace/.recipes/recipe-cyiuzaLij/recipe/evaluator.py\n",
    "\n",
    "from sklearn.metrics import precision_score, recall_score, roc_curve, confusion_matrix\n",
    "import numpy as np\n",
    "\n",
    "class Evaluator():\n",
    "    def __init__(self):\n",
    "        print (\"Initiate\")\n",
    "\n",
    "    def split(self, config={}, dataframe=None):\n",
    "        \n",
    "        train = dataframe[0:5000]\n",
    "        val = dataframe[5000:]\n",
    "\n",
    "        return train, val\n",
    "\n",
    "    def evaluate(self, data=[], model={}, config={}):\n",
    "        print (\"Evaluation triggered\")\n",
    "\n",
    "        val = data.drop('ordered', axis=1)\n",
    "        y_pred = model.predict(val)\n",
    "        y_actual = data['ordered'].values\n",
    "             \n",
    "        acc = model.score(val, y_actual)\n",
    "        recall = recall_score(y_actual, y_pred)\n",
    "        precision = precision_score(y_actual, y_pred)\n",
    "\n",
    "        metric = [{\"name\": \"Accuracy\", \"value\": acc, \"valueType\": \"double\"},\n",
    "                  {\"name\": \"Precision\", \"value\": precision, \"valueType\": \"double\"},\n",
    "                  {\"name\": \"Recall\", \"value\": recall, \"valueType\": \"double\"}]\n",
    "        \n",
    "        print(metric)\n",
    "        return metric"
   ]
  },
  {
   "cell_type": "code",
   "execution_count": null,
   "metadata": {
    "id": "training-cell"
   },
   "outputs": [],
   "source": [
    "!bash -e run_action.sh recipe-cyiuzaLij training"
   ]
  },
  {
   "cell_type": "markdown",
   "metadata": {},
   "source": [
    "---"
   ]
  },
  {
   "cell_type": "markdown",
   "metadata": {},
   "source": [
    "#### **Data Saver File**\n",
    "Implement the `save` function for saving your prediction. Scoring output will be added below this cell."
   ]
  },
  {
   "cell_type": "code",
   "execution_count": null,
   "metadata": {
    "id": "datasaver.py",
    "tags": [
     "datasaver.py"
    ]
   },
   "outputs": [],
   "source": [
    "%%writefile ~/my-workspace/.recipes/recipe-cyiuzaLij/recipe/datasaver.py\n",
    "\n",
    "import pandas as pd\n",
    "from .utils import get_client_context\n",
    "from platform_sdk.models import Dataset\n",
    "from platform_sdk.dataset_writer import DatasetWriter\n",
    "\n",
    "def save(config_properties, prediction):\n",
    "  print(\"Datasaver Start\")\n",
    "\n",
    "  client_context = get_client_context(config_properties)\n",
    "  tenant_id = config_properties.get(\"tenantId\")\n",
    "\n",
    "  dataset = Dataset(client_context).get_by_id(config_properties['scoringResultsDataSetId'])\n",
    "  dataset_writer = DatasetWriter(client_context, dataset)\n",
    "  dataset_writer.write(prediction, file_format='json')\n",
    "\n",
    "  print(\"Datasaver Finish\")"
   ]
  },
  {
   "cell_type": "code",
   "execution_count": null,
   "metadata": {
    "id": "scoring-cell"
   },
   "outputs": [],
   "source": [
    "!bash -e run_action.sh recipe-cyiuzaLij scoring"
   ]
  },
  {
   "cell_type": "code",
   "execution_count": null,
   "metadata": {},
   "outputs": [],
   "source": []
  }
 ],
 "metadata": {
  "elementId": "88ID8Vb8B",
  "isScoringRun": true,
  "kernelspec": {
   "display_name": "Python 3",
   "language": "python",
   "name": "python3"
  },
  "language_info": {
   "codemirror_mode": {
    "name": "ipython",
    "version": 3
   },
   "file_extension": ".py",
   "mimetype": "text/x-python",
   "name": "python",
   "nbconvert_exporter": "python",
   "pygments_lexer": "ipython3",
   "version": "3.6.7"
  },
  "notebook_type": "builder",
  "recipe_name": "recipe-cyiuzaLij"
 },
 "nbformat": 4,
 "nbformat_minor": 4
}
